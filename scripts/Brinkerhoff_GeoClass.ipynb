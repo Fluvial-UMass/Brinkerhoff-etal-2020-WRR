{
 "cells": [
  {
   "cell_type": "markdown",
   "metadata": {
    "slideshow": {
     "slide_type": "slide"
    }
   },
   "source": [
    "<h1> <font color=steelblue>Constraining Remotely-Sensed River Discharge Estimation Using Reach-Scale Geomorphology</font></h1>\n",
    "<br>\n",
    "    Craig Brinkerhoff <br>\n",
    "    Colin Gleason <br>\n",
    "    Peirong Lin <br>\n",
    "    Konstantinos Andreadis <br>\n",
    "    Mark Hagemann"
   ]
  },
  {
   "cell_type": "markdown",
   "metadata": {
    "slideshow": {
     "slide_type": "slide"
    }
   },
   "source": [
    "<h3><font color=darkcyan> What? </font></h3>\n",
    "<h5>\n",
    "    Can we produce better discharge estimates by incorporating river physics and 'types' of river physics into BAM?\n",
    "</h5>\n",
    "    <br><br>\n",
    "    1) Introduce more physically-representative river physics into BAM likelihood function <b>DONE</b><br>\n",
    "        &nbsp;&nbsp;&nbsp;&nbsp;&nbsp;&nbsp; 1.5) Is a physically-based manning-amhg switch better than the previously defined mathmatical one? <b>DONE </b><br>\n",
    "        &nbsp;&nbsp;&nbsp;&nbsp;&nbsp;&nbsp; 1.75) Space-varying and Space/Time-varying Manning's n yielding improvement?? <b>DONE </b><br><br>\n",
    "    2) Introduce priors that are trained on a larger, more physically-representative training set of hydraulics measurements <b> DONE </b><br>\n",
    "    3) Constrain old and new priors by river type via a river classification framework built on training set <b>ONGOING </b> <br>\n",
    "    &nbsp;&nbsp;&nbsp;&nbsp;&nbsp;&nbsp; TO DO:<br>\n",
    "   &nbsp;&nbsp;&nbsp;&nbsp;&nbsp;&nbsp;&nbsp;&nbsp;  1) test class-binned Wb, Db, and A0 <b>DONE-doing moving forward</b><br>\n",
    "      &nbsp;&nbsp;&nbsp;&nbsp;&nbsp;&nbsp;&nbsp;&nbsp;  2) test more classes <b></b><br>\n",
    "            &nbsp;&nbsp;&nbsp;&nbsp;&nbsp;&nbsp;&nbsp;&nbsp;  3) Extrapolate to wide rivers <b></b><br>\n",
    "    <br>\n",
    "    4) Machine Learning Approaches"
   ]
  },
  {
   "cell_type": "markdown",
   "metadata": {
    "slideshow": {
     "slide_type": "subslide"
    }
   },
   "source": [
    "<h3><font color=darkcyan> USGS NHD 2.1 </font></h3>\n",
    "\n",
    "<p> This work is performed on a dataset of USGS field mesurements of channel hydraulics originally collected by Barber and Gleason (2018) joined to NHD, resulting in an expanded version of the dataset used in Brinkerhoff, et al. (2019)\n",
    "    <br><br>\n",
    "    Stream Order <br>\n",
    "    Slope <br>\n",
    "    Distance Downstream <br>\n",
    "    Maximum Grain Size Entrained (Henderson, 1966) <br>\n",
    "    Shear Stress <br>\n",
    "    Froude Number <br>\n",
    "    Drainage Area <br>\n",
    "    Unit Stream Power <br>\n",
    "    Channel Shape <br>\n",
    "    Channel Width <br>\n",
    "    Channel Depth <br>\n",
    "    Channel Velocity <br>\n",
    "    Bankfull Shape <br>\n",
    "    Bankfull Width <br>\n",
    "    Bankfull Depth <br>\n",
    "    Bankfull Velocity <br>\n",
    "    Reach Type (i.e. perennial, intermittent, lake/wetland/reservoir, canal, or connector).<br>\n",
    "    Sinuosity\n",
    "    <br><br>It must be stressed that these joined variables exist at the reach-scale, while the field measurements exist at the cross-section scale. Also, these results are only reflective of the hydrology/geomorphology of river reaches measured by the USGS, generally at streamagauges.</p>"
   ]
  },
  {
   "cell_type": "markdown",
   "metadata": {
    "slideshow": {
     "slide_type": "slide"
    }
   },
   "source": [
    "<h3><font color=darkcyan> Lakes/Reservoirs Preprocessing on NHD </font></h3>\n",
    "<p> NHD for some reason has assigned many main stem or close-to-main stem reaches as artifical paths and not rivers.  Artifical paths are only supposed to be for throughflow lines in lakes/wetlands/reservoirs.\n",
    "<br><br>\n",
    "So, I identified reaches classed as 'ArtificalPath' that had no corresponding waterbodyID in the lakes dataset, assumed main stem reaches are perrenial, and reclassified those reaches as perrenial rivers.\n",
    "<br><br> Canals and NHD's 'connectors' are listed as Artifical Channels.  'Connectors' are reaches the NHD had to add to make the network continuous in some places (i.e. through dams)\n",
    "<br><br>\n",
    "I am using the NHD's defintion of river intermittncy.  It's unclear how they designate perrenial/intermittent/ephemeral (no ephemeral reaches had measurements on them)\n",
    "</p>"
   ]
  },
  {
   "cell_type": "markdown",
   "metadata": {},
   "source": [
    "<h3><font color=darkcyan> Functions </font></h3>"
   ]
  },
  {
   "cell_type": "code",
   "execution_count": 1,
   "metadata": {},
   "outputs": [],
   "source": [
    "#AHG exp function\n",
    "def regress(data, yvar, xvars):\n",
    "    Y = np.log(data[yvar])\n",
    "    X = np.log(data[xvars])\n",
    "    X['intercept'] = 1.\n",
    "    result = sm.OLS(Y, X).fit()\n",
    "    return result.params[0] #only get exp\n",
    "\n",
    "#AHG int function\n",
    "def regress2(data, yvar, xvars):\n",
    "    Y = np.log(data[yvar])\n",
    "    X = np.log(data[xvars])\n",
    "    X['intercept'] = 1.\n",
    "    result = sm.OLS(Y, X).fit()\n",
    "    return result.params[1] #only get int\n",
    "\n",
    "#bankfull hydraulics function\n",
    "def calculate_bankful(df, colname, retPeriod):\n",
    "    # sort data smallest to largest\n",
    "    sorted_data = df.sort_values(by=colname, ascending = False)\n",
    "    # count total obervations\n",
    "    n = sorted_data.shape[0]\n",
    "    # add a numbered column 1 -> n to use in return calculation for rank\n",
    "    sorted_data.insert(0, 'rank', range(1, 1 + n))\n",
    "    #find desired rank\n",
    "    desiredRank = (n+1)/retPeriod\n",
    "    desiredRank = round(desiredRank)\n",
    "    #get variable with desired rank\n",
    "    output = sorted_data.loc[sorted_data['rank'] == desiredRank, colname]\n",
    "    return(output)\n",
    "\n",
    "#AHG r2 function\n",
    "def regress3(data, yvar, xvars):\n",
    "    Y = np.log(data[yvar])\n",
    "    X = np.log(data[xvars])\n",
    "    X['intercept'] = 1.\n",
    "    result = sm.OLS(Y, X).fit()\n",
    "    return result.rsquared #only get r2"
   ]
  },
  {
   "cell_type": "markdown",
   "metadata": {
    "slideshow": {
     "slide_type": "skip"
    }
   },
   "source": [
    "<h3><font color=darkcyan> Data Wranglin' & Cleanin' </font></h3>"
   ]
  },
  {
   "cell_type": "code",
   "execution_count": 2,
   "metadata": {
    "slideshow": {
     "slide_type": "skip"
    }
   },
   "outputs": [],
   "source": [
    "import pandas as pd\n",
    "import os\n",
    "import numpy as np\n",
    "import scipy.stats.mstats as sp\n",
    "import matplotlib.pyplot as plt\n",
    "import seaborn as sns\n",
    "import statsmodels.api as sm\n",
    "import math\n",
    "from IPython.display import display, HTML\n",
    "from sklearn.cluster import KMeans\n",
    "from sklearn import metrics\n",
    "from sklearn import svm\n",
    "from sklearn.preprocessing import StandardScaler\n",
    "from sklearn.decomposition import PCA\n",
    "from sklearn import linear_model\n",
    "from pandas.plotting import scatter_matrix\n",
    "from sklearn.ensemble import RandomForestClassifier\n",
    "from sklearn.metrics import confusion_matrix, accuracy_score\n",
    "from sklearn.model_selection import train_test_split\n",
    "from sklearn.metrics import mean_squared_error\n",
    "from math import sqrt\n",
    "from bokeh.plotting import figure, show, output_notebook\n",
    "from bokeh.tile_providers import CARTODBPOSITRON\n",
    "from ast import literal_eval\n",
    "\n",
    "#set working directory\n",
    "os.chdir(\"C:\\\\Users\\\\cbrinkerhoff\\\\Box Sync\\\\Ongoing Projects\\\\geomorph_class\\\\\")\n",
    "\n",
    "#load in barber dataset\n",
    "Hydroshortened = pd.read_csv('Barber_rivers.csv', low_memory=False, encoding='latin-1')\n",
    "\n",
    "#NHD 2.1 flowlines (with USGS gauges snapped to them) and lakes\n",
    "med_NHD = pd.read_csv('NHD_med_res.csv', low_memory=False, encoding='latin-1')\n",
    "med_NHD_lakes = pd.read_csv('med_NHD_lakes.csv', low_memory=False, encoding='latin-1')\n",
    "\n",
    "#NHD sinuosity from  Wieczorek, M.E., Jackson, S.E., and Schwarz, G.E., 2018, Select Attributes for NHDPlus Version 2.1 Reach Catchments and Modified Network Routed Upstream Watersheds for the Conterminous United States: U.S. Geological Survey data release, https://doi.org/10.5066/F7765D7V. \n",
    "sinuosityCONUS = pd.read_csv('Sinuousity_CONUS.txt', delimiter=',')\n",
    "\n",
    "Hydroshortened = pd.merge(Hydroshortened, med_NHD[['SOURCE_FEA', 'COMID', 'SLOPE', 'StreamOrde', 'ArbolateSu', 'Measure', 'LENGTHKM', 'LatSite', 'LonSite', 'FTYPE', 'FCODE', 'DASqKm', 'Tidal', 'WBAREACOMI', 'TOTMA']],left_on='site_no', right_on='SOURCE_FEA')\n",
    "Hydroshortened = pd.merge(Hydroshortened, sinuosityCONUS, left_on='COMID', right_on='COMID')"
   ]
  },
  {
   "cell_type": "code",
   "execution_count": 3,
   "metadata": {
    "slideshow": {
     "slide_type": "skip"
    }
   },
   "outputs": [],
   "source": [
    "#get depth\n",
    "Hydroshortened['chan_depth'] = Hydroshortened['chan_area']/Hydroshortened['chan_width']\n",
    "\n",
    "#cleaning NA values and hydraulics below 0\n",
    "Hydroshortened = Hydroshortened[Hydroshortened['chan_width'] > 0]\n",
    "Hydroshortened = Hydroshortened[Hydroshortened['chan_depth'] > 0]\n",
    "Hydroshortened = Hydroshortened[Hydroshortened['chan_discharge'] > 0]\n",
    "Hydroshortened = Hydroshortened[Hydroshortened['measured_rating_diff'] != 'Poor']\n",
    "Hydroshortened = Hydroshortened[Hydroshortened['measured_rating_diff'] != 'POOR']\n",
    "\n",
    "Hydroshortened = Hydroshortened[Hydroshortened['chan_width'].notnull()]\n",
    "Hydroshortened = Hydroshortened[Hydroshortened['chan_depth'].notnull()]\n",
    "Hydroshortened = Hydroshortened[Hydroshortened['chan_discharge'].notnull()]\n",
    "Hydroshortened = Hydroshortened[Hydroshortened['chan_width'].notna()]\n",
    "Hydroshortened = Hydroshortened[Hydroshortened['chan_depth'].notna()]\n",
    "Hydroshortened = Hydroshortened[Hydroshortened['chan_discharge'].notna()]\n",
    "\n",
    "#convert needed units to metric\n",
    "Hydroshortened['chan_width'] = Hydroshortened['chan_width']*0.305\n",
    "Hydroshortened['chan_depth'] = Hydroshortened['chan_depth']*0.305\n",
    "Hydroshortened['chan_velocity'] = Hydroshortened['chan_velocity']*0.305\n",
    "Hydroshortened['chan_discharge'] = Hydroshortened['chan_discharge']*0.028\n",
    "\n",
    "Hydroshortened['n'] = ((Hydroshortened['chan_depth'])**(2/3)*Hydroshortened['SLOPE']**(1/2))/Hydroshortened['chan_velocity']\n",
    "Hydroshortened['shearStress'] = 9.81*Hydroshortened['chan_depth']*Hydroshortened['SLOPE']\n",
    "Hydroshortened['Fb'] = Hydroshortened['chan_velocity']/((Hydroshortened['chan_depth']*9.81)**(1/2))\n",
    "Hydroshortened['minEntrain'] = 11*Hydroshortened['chan_depth']*Hydroshortened['SLOPE']\n",
    "\n",
    "#A0- median not minimum\n",
    "Hydroshortened = Hydroshortened.join(Hydroshortened.groupby('site_no')['chan_area'].agg(['median']), on='site_no')\n",
    "Hydroshortened = Hydroshortened.rename(columns={\"median\": \"A0\"})\n",
    "\n",
    "#number of measurements at-a-station\n",
    "groupSize = Hydroshortened.groupby('site_no').size().to_frame()\n",
    "Hydroshortened = Hydroshortened.merge(groupSize, on='site_no')\n",
    "\n",
    "#AHG parameters\n",
    "b_temp = Hydroshortened.groupby('site_no').apply(regress, 'chan_width', ['chan_discharge']).to_frame()\n",
    "a_temp = Hydroshortened.groupby('site_no').apply(regress2, 'chan_width', ['chan_discharge']).to_frame()\n",
    "f_temp = Hydroshortened.groupby('site_no').apply(regress, 'chan_depth', ['chan_discharge']).to_frame()\n",
    "c_temp = Hydroshortened.groupby('site_no').apply(regress2, 'chan_depth', ['chan_discharge']).to_frame()\n",
    "m_temp = Hydroshortened.groupby('site_no').apply(regress, 'chan_velocity', ['chan_discharge']).to_frame()\n",
    "k_temp = Hydroshortened.groupby('site_no').apply(regress2, 'chan_velocity', ['chan_discharge']).to_frame()\n",
    "\n",
    "b_temp = b_temp.rename(columns={0:'b'})\n",
    "Hydroshortened =  pd.merge(Hydroshortened, b_temp, on='site_no')\n",
    "\n",
    "a_temp = a_temp.rename(columns={0:'loga'})\n",
    "Hydroshortened =  pd.merge(Hydroshortened, a_temp, on='site_no')\n",
    "\n",
    "c_temp = c_temp.rename(columns={0:'logc'})\n",
    "Hydroshortened =  pd.merge(Hydroshortened, c_temp, on='site_no')\n",
    "\n",
    "f_temp = f_temp.rename(columns={0:'f'})\n",
    "Hydroshortened =  pd.merge(Hydroshortened, f_temp, on='site_no')\n",
    "\n",
    "k_temp = k_temp.rename(columns={0:'logk'})\n",
    "Hydroshortened =  pd.merge(Hydroshortened, k_temp, on='site_no')\n",
    "\n",
    "m_temp = m_temp.rename(columns={0:'m'})\n",
    "Hydroshortened =  pd.merge(Hydroshortened, m_temp, on='site_no')\n",
    "\n",
    "#Calculate some more variables\n",
    "Hydroshortened['r'] = Hydroshortened['f']/Hydroshortened['b']\n",
    "Hydroshortened['unitPower'] = (998*9.8*Hydroshortened['chan_discharge']*Hydroshortened['SLOPE'])/Hydroshortened['chan_width']\n",
    "Hydroshortened['DistDwnstrm'] = Hydroshortened['ArbolateSu']-((Hydroshortened['Measure']/100)*Hydroshortened['LENGTHKM'])\n",
    "Hydroshortened['chan_material'] = np.where(Hydroshortened['chan_material'] == 'silt', 'SILT', Hydroshortened['chan_material'])\n",
    "Hydroshortened['chan_material_index'] = np.where(Hydroshortened['chan_material'] == 'BLDR', 1,\n",
    "                                                np.where(Hydroshortened['chan_material'] == 'GRVL', 2,\n",
    "                                                        np.where(Hydroshortened['chan_material'] == 'SAND', 3,\n",
    "                                                                np.where(Hydroshortened['chan_material'] == 'SILT', 4,\n",
    "                                                                        np.where(Hydroshortened['chan_material'] == 'UNSP', 5,5)))))\n",
    "\n",
    "Hydroshortened['FCODEnorm'] = np.where(Hydroshortened['FCODE'] == 33400, 1, #connectors or canals\n",
    "                                                np.where(Hydroshortened['FCODE'] == 33600, 1, #connectors or canal\n",
    "                                                        np.where(Hydroshortened['FCODE'] == 46003, 2, #intermittent river\n",
    "                                                                np.where(Hydroshortened['FCODE'] == 46006, 3, #perienial river\n",
    "                                                                        np.where(Hydroshortened['WBAREACOMI'].isin(med_NHD_lakes['COMID']), 4,3))))) #lake if also in lakes dataset, otherwise its a main stem river or tidal reach and can be reclassified as perrenial river (basically....)\n",
    "\n",
    "Hydroshortened['FTYPE'] = np.where(Hydroshortened['FCODE'] == 33400, 'ArtificalChannel', #connector or canal\n",
    "                                                np.where(Hydroshortened['FCODE'] == 33600, 'ArtificalChannel', #connector or canal\n",
    "                                                        np.where(Hydroshortened['FCODE'] == 46003, 'IntermittentRiver', #intermittent river\n",
    "                                                                np.where(Hydroshortened['FCODE'] == 46006, 'PerennialRiver', #perienial river\n",
    "                                                                        np.where(Hydroshortened['WBAREACOMI'].isin(med_NHD_lakes['COMID']), 'Lake/Reservoir/Wetland','PerennialRiver')))))\n",
    "\n",
    "#Bankfull hydraulics Using 2 yr return period\n",
    "bank_width = Hydroshortened.groupby('site_no').apply(calculate_bankful, 'chan_width', 2).to_frame()\n",
    "bank_width = bank_width.rename(columns={'chan_width':'bank_width'})\n",
    "Hydroshortened =  pd.merge(Hydroshortened, bank_width, on='site_no')\n",
    "\n",
    "bank_depth = Hydroshortened.groupby('site_no').apply(calculate_bankful, 'chan_depth', 2).to_frame()\n",
    "bank_depth = bank_depth.rename(columns={'chan_depth':'bank_depth'})\n",
    "Hydroshortened =  pd.merge(Hydroshortened, bank_depth, on='site_no')\n",
    "\n",
    "bank_Q = Hydroshortened.groupby('site_no').apply(calculate_bankful, 'chan_discharge', 2).to_frame()\n",
    "bank_Q = bank_Q.rename(columns={'chan_discharge':'bank_Q'})\n",
    "Hydroshortened =  pd.merge(Hydroshortened, bank_Q, on='site_no')"
   ]
  },
  {
   "cell_type": "markdown",
   "metadata": {},
   "source": [
    "<h4> <font color=darkolivegreen>Filter sites w/ impossible AHG</font> </h4>"
   ]
  },
  {
   "cell_type": "code",
   "execution_count": 4,
   "metadata": {},
   "outputs": [],
   "source": [
    "Hydroshortened = Hydroshortened[Hydroshortened['b'] > 0]\n",
    "Hydroshortened = Hydroshortened[Hydroshortened['b'] < 1]\n",
    "Hydroshortened = Hydroshortened[Hydroshortened['f'] > 0]\n",
    "Hydroshortened = Hydroshortened[Hydroshortened['f'] < 1]\n",
    "Hydroshortened = Hydroshortened[Hydroshortened['m'] > 0]\n",
    "Hydroshortened = Hydroshortened[Hydroshortened['m'] < 1]"
   ]
  },
  {
   "cell_type": "markdown",
   "metadata": {},
   "source": [
    "<h4> <font color=darkolivegreen>Width AMHG</font> </h4>"
   ]
  },
  {
   "cell_type": "code",
   "execution_count": 5,
   "metadata": {},
   "outputs": [],
   "source": [
    "#width AMHG\n",
    "bySite = Hydroshortened.groupby('site_no').mean()\n",
    "logWc_temp = Hydroshortened.groupby('river_name').apply(regress2, 'loga', ['b']).to_frame()\n",
    "logWc_temp = logWc_temp.rename(columns={0: \"logQc_w\"})\n",
    "logQc_w_temp = Hydroshortened.groupby('river_name').apply(regress, 'loga', ['b']).to_frame()*-1\n",
    "logQc_w_temp = logQc_w_temp.rename(columns={0: \"logWc\"})\n",
    "amhg_r2 = Hydroshortened.groupby('river_name').apply(regress3, 'loga', ['b']).to_frame()\n",
    "amhg_r2 = amhg_r2.rename(columns={0:'amhg_r2'})\n",
    "Hydroshortened =  pd.merge(Hydroshortened, logWc_temp, on='river_name')\n",
    "Hydroshortened =  pd.merge(Hydroshortened, logQc_w_temp, on='river_name')\n",
    "Hydroshortened =  pd.merge(Hydroshortened, amhg_r2, on='river_name')"
   ]
  },
  {
   "cell_type": "markdown",
   "metadata": {},
   "source": [
    "<h4> <font color=darkolivegreen>Resulting Dataset Size and Spatial Distribution</font> </h4>"
   ]
  },
  {
   "cell_type": "code",
   "execution_count": 6,
   "metadata": {
    "slideshow": {
     "slide_type": "slide"
    }
   },
   "outputs": [
    {
     "name": "stdout",
     "output_type": "stream",
     "text": [
      "\u001b[1m# measurements:\n"
     ]
    },
    {
     "data": {
      "text/plain": [
       "372109"
      ]
     },
     "metadata": {},
     "output_type": "display_data"
    },
    {
     "name": "stdout",
     "output_type": "stream",
     "text": [
      "\u001b[1m# cross-sections:\n"
     ]
    },
    {
     "data": {
      "text/plain": [
       "1444"
      ]
     },
     "metadata": {},
     "output_type": "display_data"
    },
    {
     "name": "stdout",
     "output_type": "stream",
     "text": [
      "\u001b[1m# rivers:\n"
     ]
    },
    {
     "data": {
      "text/plain": [
       "190"
      ]
     },
     "metadata": {},
     "output_type": "display_data"
    }
   ],
   "source": [
    "print('\\033[1m' + \"# measurements:\")\n",
    "display(len(Hydroshortened.index))\n",
    "\n",
    "print('\\033[1m' + \"# cross-sections:\")\n",
    "\n",
    "display(Hydroshortened.groupby('site_no').ngroups)\n",
    "\n",
    "print('\\033[1m' + \"# rivers:\")\n",
    "display(Hydroshortened.groupby('river_name').ngroups)"
   ]
  },
  {
   "cell_type": "raw",
   "metadata": {
    "slideshow": {
     "slide_type": "skip"
    }
   },
   "source": [
    "#convert lat/long to web mercator function\n",
    "def merc(Coords):\n",
    "    Coordinates = literal_eval(Coords)\n",
    "    lat = Coordinates[0]\n",
    "    lon = Coordinates[1]\n",
    "    \n",
    "    r_major = 6378137.000\n",
    "    x = r_major * math.radians(lon)\n",
    "    scale = x/lon\n",
    "    y = 180.0/math.pi * math.log(math.tan(math.pi/4.0 + \n",
    "        lat * (math.pi/180.0)/2.0)) * scale\n",
    "    return (x, y)\n",
    "\n",
    "#convert Hydroshortened lat/long to mercator\n",
    "Hydroshortened['latlong'] = '(' + Hydroshortened[\"LatSite\"].map(str) + ', ' + Hydroshortened[\"LonSite\"].map(str) + ')'\n",
    "\n",
    "Hydroshortened['long_merc'] = Hydroshortened['latlong'].apply(lambda x: merc(x)[0])\n",
    "Hydroshortened['lat_merc'] = Hydroshortened['latlong'].apply(lambda x: merc(x)[1])\n",
    "\n",
    "grouped = Hydroshortened.groupby('site_no').mean()\n",
    "\n",
    "#plot basemap\n",
    "p = figure(x_range=(-14026255, -7347086), y_range=(2999080, 7170156),\n",
    "           x_axis_type=\"mercator\", y_axis_type=\"mercator\", title=\"Field-Measurement Locations\", plot_width=900)\n",
    "p.add_tile(CARTODBPOSITRON)\n",
    "\n",
    "p.circle(x = grouped['long_merc'],\n",
    "         y = grouped['lat_merc'],\n",
    "        size=3,\n",
    "        fill_color='darkgreen')\n",
    "\n",
    "output_notebook()\n",
    "show(p)"
   ]
  },
  {
   "cell_type": "markdown",
   "metadata": {
    "slideshow": {
     "slide_type": "slide"
    }
   },
   "source": [
    "<h3><font color=darkcyan> Calculate Global Priors </font></h3>"
   ]
  },
  {
   "cell_type": "code",
   "execution_count": 7,
   "metadata": {
    "slideshow": {
     "slide_type": "slide"
    }
   },
   "outputs": [
    {
     "name": "stderr",
     "output_type": "stream",
     "text": [
      "C:\\Users\\cbrinkerhoff\\AppData\\Local\\Continuum\\anaconda3\\lib\\site-packages\\ipykernel_launcher.py:33: FutureWarning: The signature of `Series.to_csv` was aligned to that of `DataFrame.to_csv`, and argument 'header' will change its default value from False to True: please pass an explicit value to suppress this warning.\n",
      "C:\\Users\\cbrinkerhoff\\AppData\\Local\\Continuum\\anaconda3\\lib\\site-packages\\ipykernel_launcher.py:34: FutureWarning: The signature of `Series.to_csv` was aligned to that of `DataFrame.to_csv`, and argument 'header' will change its default value from False to True: please pass an explicit value to suppress this warning.\n",
      "C:\\Users\\cbrinkerhoff\\AppData\\Local\\Continuum\\anaconda3\\lib\\site-packages\\ipykernel_launcher.py:35: FutureWarning: The signature of `Series.to_csv` was aligned to that of `DataFrame.to_csv`, and argument 'header' will change its default value from False to True: please pass an explicit value to suppress this warning.\n",
      "C:\\Users\\cbrinkerhoff\\AppData\\Local\\Continuum\\anaconda3\\lib\\site-packages\\ipykernel_launcher.py:36: FutureWarning: The signature of `Series.to_csv` was aligned to that of `DataFrame.to_csv`, and argument 'header' will change its default value from False to True: please pass an explicit value to suppress this warning.\n",
      "C:\\Users\\cbrinkerhoff\\AppData\\Local\\Continuum\\anaconda3\\lib\\site-packages\\ipykernel_launcher.py:37: FutureWarning: The signature of `Series.to_csv` was aligned to that of `DataFrame.to_csv`, and argument 'header' will change its default value from False to True: please pass an explicit value to suppress this warning.\n",
      "C:\\Users\\cbrinkerhoff\\AppData\\Local\\Continuum\\anaconda3\\lib\\site-packages\\ipykernel_launcher.py:38: FutureWarning: The signature of `Series.to_csv` was aligned to that of `DataFrame.to_csv`, and argument 'header' will change its default value from False to True: please pass an explicit value to suppress this warning.\n",
      "C:\\Users\\cbrinkerhoff\\AppData\\Local\\Continuum\\anaconda3\\lib\\site-packages\\ipykernel_launcher.py:39: FutureWarning: The signature of `Series.to_csv` was aligned to that of `DataFrame.to_csv`, and argument 'header' will change its default value from False to True: please pass an explicit value to suppress this warning.\n",
      "C:\\Users\\cbrinkerhoff\\AppData\\Local\\Continuum\\anaconda3\\lib\\site-packages\\ipykernel_launcher.py:40: FutureWarning: The signature of `Series.to_csv` was aligned to that of `DataFrame.to_csv`, and argument 'header' will change its default value from False to True: please pass an explicit value to suppress this warning.\n"
     ]
    },
    {
     "data": {
      "image/png": "[encoded data removed]",
      "text/plain": [
       "<Figure size 864x576 with 6 Axes>"
      ]
     },
     "metadata": {
      "needs_background": "light"
     },
     "output_type": "display_data"
    }
   ],
   "source": [
    "Hydroshortened['logA0'] = np.log(Hydroshortened['A0'])\n",
    "Hydroshortened['logr'] = np.log(Hydroshortened['r'])\n",
    "Hydroshortened['logn'] = np.log(Hydroshortened['n'])\n",
    "Hydroshortened['logWb'] = np.log(Hydroshortened['bank_width'])\n",
    "Hydroshortened['logDb'] = np.log(Hydroshortened['bank_depth'])\n",
    "Hydroshortened['logQb'] = np.log(Hydroshortened['bank_Q'])\n",
    "Hydroshortened['logQ'] = np.log(Hydroshortened['chan_discharge'])\n",
    "\n",
    "Hydroshortened['log10De'] = np.log10(Hydroshortened['minEntrain'])\n",
    "\n",
    "fig, axs = plt.subplots(ncols=6, figsize=(12, 8))\n",
    "sns.distplot(Hydroshortened['logWb'], ax=axs[0], color='y')\n",
    "sns.distplot(Hydroshortened['logDb'], ax=axs[1], color='g')\n",
    "sns.distplot(Hydroshortened['logA0'], ax=axs[2], color='r')\n",
    "sns.distplot(Hydroshortened['logr'], ax=axs[3])\n",
    "sns.distplot(Hydroshortened['logn'], ax=axs[4])\n",
    "sns.distplot(Hydroshortened['b'], ax=axs[5])\n",
    "\n",
    "fig.suptitle(\"Empirical Distributions for Prior Parameters\")\n",
    "fig.autofmt_xdate(rotation=90)\n",
    "fig.tight_layout(rect=[0, 0.03, 1, 0.95])\n",
    "\n",
    "#save prior PDFs (no river type subsetting)\n",
    "priorWb = Hydroshortened['logWb'].describe()\n",
    "priorDb = Hydroshortened['logDb'].describe()\n",
    "prior_r = Hydroshortened['logr'].describe()\n",
    "priorDe = Hydroshortened['log10De'].describe()\n",
    "priorQb = Hydroshortened['logQb'].describe()\n",
    "priorA0 = Hydroshortened['logA0'].describe()\n",
    "priorN = Hydroshortened['logn'].describe()\n",
    "priorB = Hydroshortened['b'].describe()\n",
    "\n",
    "priorWb.to_csv('priorsWb.csv')\n",
    "priorDb.to_csv('priorsDb.csv')\n",
    "prior_r.to_csv('priorsr.csv')\n",
    "priorDe.to_csv('priorsDe.csv')\n",
    "priorQb.to_csv('priorsQb.csv')\n",
    "priorA0.to_csv('priorsA0.csv')\n",
    "priorN.to_csv('priorsN.csv')\n",
    "priorB.to_csv('priorsB.csv')"
   ]
  },
  {
   "cell_type": "markdown",
   "metadata": {},
   "source": [
    "<h4> <font color=darkolivegreen>Calculate Global Hat Functions</font> </h4>"
   ]
  },
  {
   "cell_type": "code",
   "execution_count": 8,
   "metadata": {},
   "outputs": [],
   "source": [
    "Hydroshortened['logchan_width'] = np.log(Hydroshortened['chan_width'])\n",
    "\n",
    "stdWdths = Hydroshortened.groupby('site_no')['logchan_width'].std().to_frame()\n",
    "stdWdths = stdWdths.rename(columns={'logchan_width':'stdWdth'})\n",
    "meanWdths = Hydroshortened.groupby('site_no')['logchan_width'].mean().to_frame()\n",
    "meanWdths = meanWdths.rename(columns={'logchan_width':'meanWdths'})\n",
    "\n",
    "Hydroshortened =  pd.merge(Hydroshortened, stdWdths, on='site_no')\n",
    "Hydroshortened =  pd.merge(Hydroshortened, meanWdths, on='site_no')"
   ]
  },
  {
   "cell_type": "code",
   "execution_count": 9,
   "metadata": {},
   "outputs": [
    {
     "name": "stderr",
     "output_type": "stream",
     "text": [
      "C:\\Users\\cbrinkerhoff\\AppData\\Local\\Continuum\\anaconda3\\lib\\site-packages\\numpy\\core\\fromnumeric.py:2389: FutureWarning: Method .ptp is deprecated and will be removed in a future version. Use numpy.ptp instead.\n",
      "  return ptp(axis=axis, out=out, **kwargs)\n"
     ]
    }
   ],
   "source": [
    "Hydroshortened['logSLOPE'] = np.log(Hydroshortened['SLOPE'])\n",
    "Hydroshortened['log10SLOPE'] = np.log10(Hydroshortened['SLOPE'])\n",
    "Hydroshortened['log10n'] = np.log10(Hydroshortened['n'])\n",
    "\n",
    "#For non time-varying parameters, need a dataset of only one value per station\n",
    "forPriors = Hydroshortened.drop_duplicates('site_no')\n",
    "\n",
    "resultB = sm.OLS(forPriors['b'], sm.add_constant(forPriors['stdWdth'])).fit()\n",
    "resultA0 = sm.OLS(forPriors['logA0'], sm.add_constant(forPriors[['meanWdths','stdWdth']])).fit()\n",
    "resultWb = sm.OLS(forPriors['logWb'], sm.add_constant(forPriors[['meanWdths']])).fit()\n",
    "resultDb = sm.OLS(forPriors['logDb'], sm.add_constant(forPriors[['meanWdths', 'stdWdth']])).fit()\n",
    "result_r = sm.OLS(forPriors['logr'], sm.add_constant(forPriors[['meanWdths', 'stdWdth']])).fit()\n",
    "resultQb = sm.OLS(forPriors['logQb'], sm.add_constant(forPriors[['meanWdths']])).fit()\n",
    "resultDe = sm.OLS(forPriors['log10De'], sm.add_constant(forPriors[['log10SLOPE']])).fit()\n",
    "resultN = sm.OLS(Hydroshortened['logn'], sm.add_constant(Hydroshortened[['logSLOPE']])).fit()\n",
    "\n",
    "globalModels = pd.DataFrame(index=['b', 'A0', 'Wb', 'Db', 'r', 'Qb', 'De', 'n'])\n",
    "globalModels['models'] = (resultB.params, resultA0.params, resultWb.params, resultDb.params, result_r.params, resultQb.params, resultDe.params, resultN.params)\n",
    "globalModels.to_csv('modelParameters.csv')\n",
    "\n",
    "#get residual standard errors --> SD for hat funtions in BAM\n",
    "sdWb = np.sqrt(resultWb.scale)\n",
    "sdDb = np.sqrt(resultDb.scale)\n",
    "sdR = np.sqrt(result_r.scale)\n",
    "sdN = np.sqrt(resultN.scale)\n",
    "sdB = np.sqrt(resultB.scale)\n",
    "sdA0 = np.sqrt(resultA0.scale)\n",
    "\n",
    "priorsSD = pd.DataFrame(index=['Wb','Db','r','n', 'A0', 'b'])\n",
    "priorsSD['SD'] = (sdWb, sdDb, sdR, sdN, sdA0, sdB)\n",
    "priorsSD.to_csv('priorSDs.csv')"
   ]
  },
  {
   "cell_type": "markdown",
   "metadata": {},
   "source": [
    "<h4> <font color=darkolivegreen>Extract Braided River Prior Information</font> </h4>"
   ]
  },
  {
   "cell_type": "code",
   "execution_count": 10,
   "metadata": {},
   "outputs": [
    {
     "name": "stderr",
     "output_type": "stream",
     "text": [
      "C:\\Users\\cbrinkerhoff\\AppData\\Local\\Continuum\\anaconda3\\lib\\site-packages\\ipykernel_launcher.py:8: FutureWarning: The signature of `Series.to_csv` was aligned to that of `DataFrame.to_csv`, and argument 'header' will change its default value from False to True: please pass an explicit value to suppress this warning.\n",
      "  \n",
      "C:\\Users\\cbrinkerhoff\\AppData\\Local\\Continuum\\anaconda3\\lib\\site-packages\\ipykernel_launcher.py:9: FutureWarning: The signature of `Series.to_csv` was aligned to that of `DataFrame.to_csv`, and argument 'header' will change its default value from False to True: please pass an explicit value to suppress this warning.\n",
      "  if __name__ == '__main__':\n",
      "C:\\Users\\cbrinkerhoff\\AppData\\Local\\Continuum\\anaconda3\\lib\\site-packages\\ipykernel_launcher.py:10: FutureWarning: The signature of `Series.to_csv` was aligned to that of `DataFrame.to_csv`, and argument 'header' will change its default value from False to True: please pass an explicit value to suppress this warning.\n",
      "  # Remove the CWD from sys.path while we load stuff.\n"
     ]
    },
    {
     "data": {
      "text/plain": [
       "count    232.000000\n",
       "mean       0.761203\n",
       "std        0.343606\n",
       "min        0.096614\n",
       "25%        0.531453\n",
       "50%        0.753444\n",
       "75%        0.957026\n",
       "max        2.083884\n",
       "Name: stdWdth, dtype: float64"
      ]
     },
     "execution_count": 10,
     "metadata": {},
     "output_type": "execute_result"
    }
   ],
   "source": [
    "#braided is defined as r < 1\n",
    "braidedSites = forPriors[forPriors['r'] < 1]\n",
    "\n",
    "Rbraided  = braidedSites['logr'].describe()\n",
    "BBraided = braidedSites['b'].describe()\n",
    "Nbraided = braidedSites['logn'].describe()\n",
    "\n",
    "braidedRPriors = Rbraided.to_csv('braidedRPriors.csv')\n",
    "braidedBPriors = BBraided.to_csv('braidedBPriors.csv')\n",
    "braidedNPriors = Nbraided.to_csv('braidedNPriors.csv')\n",
    "\n",
    "braidedSites['stdWdth'].describe()"
   ]
  },
  {
   "cell_type": "markdown",
   "metadata": {},
   "source": [
    "<h3><font color=darkcyan> Classifying by River Type </font></h3>"
   ]
  },
  {
   "cell_type": "markdown",
   "metadata": {
    "slideshow": {
     "slide_type": "slide"
    }
   },
   "source": [
    "<h4> <font color=darkolivegreen>Supervised 'Fluvial Index' </font></h4>"
   ]
  },
  {
   "cell_type": "code",
   "execution_count": 11,
   "metadata": {
    "slideshow": {
     "slide_type": "skip"
    }
   },
   "outputs": [],
   "source": [
    "#run PCA\n",
    "features = ['chan_width', 'n', 'SLOPE', 'StreamOrde','DistDwnstrm', 'FCODEnorm', 'chan_depth', 'chan_velocity', 'unitPower', 'r', 'DASqKm', 'Fb', 'shearStress', 'minEntrain', 'TOTMA']\n",
    "x = Hydroshortened.loc[:, features].values # Separating out the features\n",
    "y = Hydroshortened.loc[:,['site_no']].values # Separating out the target\n",
    "x = StandardScaler().fit_transform(x) # normalizing the features\n",
    "\n",
    "pca = PCA(n_components=5) #ran using 5 PCs\n",
    "principalComponents = pca.fit_transform(x)\n",
    "principalDf = pd.DataFrame(data = pca.components_\n",
    "             , columns = ['chan_width', 'n', 'SLOPE', 'StreamOrde','DistDwnstrm', 'FCODEnorm', 'chan_depth', 'chan_velocity', 'unitPower', 'r', 'DASqKm', 'Fb', 'shearStress', 'minEntrain', 'TOTMA'])"
   ]
  },
  {
   "cell_type": "code",
   "execution_count": 12,
   "metadata": {
    "slideshow": {
     "slide_type": "slide"
    }
   },
   "outputs": [
    {
     "data": {
      "text/html": [
       "<div>\n",
       "<style scoped>\n",
       "    .dataframe tbody tr th:only-of-type {\n",
       "        vertical-align: middle;\n",
       "    }\n",
       "\n",
       "    .dataframe tbody tr th {\n",
       "        vertical-align: top;\n",
       "    }\n",
       "\n",
       "    .dataframe thead th {\n",
       "        text-align: right;\n",
       "    }\n",
       "</style>\n",
       "<table border=\"1\" class=\"dataframe\">\n",
       "  <thead>\n",
       "    <tr style=\"text-align: right;\">\n",
       "      <th></th>\n",
       "      <th>chan_width</th>\n",
       "      <th>n</th>\n",
       "      <th>SLOPE</th>\n",
       "      <th>StreamOrde</th>\n",
       "      <th>DistDwnstrm</th>\n",
       "      <th>FCODEnorm</th>\n",
       "      <th>chan_depth</th>\n",
       "      <th>chan_velocity</th>\n",
       "      <th>unitPower</th>\n",
       "      <th>r</th>\n",
       "      <th>DASqKm</th>\n",
       "      <th>Fb</th>\n",
       "      <th>shearStress</th>\n",
       "      <th>minEntrain</th>\n",
       "      <th>TOTMA</th>\n",
       "    </tr>\n",
       "  </thead>\n",
       "  <tbody>\n",
       "    <tr>\n",
       "      <td>0</td>\n",
       "      <td>0.005546</td>\n",
       "      <td>0.285024</td>\n",
       "      <td>0.438508</td>\n",
       "      <td>0.008910</td>\n",
       "      <td>0.015969</td>\n",
       "      <td>-0.059224</td>\n",
       "      <td>0.046672</td>\n",
       "      <td>-0.000323</td>\n",
       "      <td>0.464726</td>\n",
       "      <td>-0.001368</td>\n",
       "      <td>0.016526</td>\n",
       "      <td>-0.002606</td>\n",
       "      <td>0.502057</td>\n",
       "      <td>0.502057</td>\n",
       "      <td>0.006848</td>\n",
       "    </tr>\n",
       "    <tr>\n",
       "      <td>1</td>\n",
       "      <td>0.392944</td>\n",
       "      <td>-0.025441</td>\n",
       "      <td>-0.040980</td>\n",
       "      <td>0.460018</td>\n",
       "      <td>0.560255</td>\n",
       "      <td>0.060876</td>\n",
       "      <td>0.113435</td>\n",
       "      <td>0.038597</td>\n",
       "      <td>0.002835</td>\n",
       "      <td>-0.007816</td>\n",
       "      <td>0.547234</td>\n",
       "      <td>0.010708</td>\n",
       "      <td>-0.002061</td>\n",
       "      <td>-0.002061</td>\n",
       "      <td>0.006723</td>\n",
       "    </tr>\n",
       "    <tr>\n",
       "      <td>2</td>\n",
       "      <td>-0.013417</td>\n",
       "      <td>-0.017163</td>\n",
       "      <td>0.006006</td>\n",
       "      <td>-0.014794</td>\n",
       "      <td>-0.020152</td>\n",
       "      <td>-0.007029</td>\n",
       "      <td>-0.007214</td>\n",
       "      <td>0.705734</td>\n",
       "      <td>0.005729</td>\n",
       "      <td>0.000388</td>\n",
       "      <td>-0.019139</td>\n",
       "      <td>0.707207</td>\n",
       "      <td>0.002338</td>\n",
       "      <td>0.002338</td>\n",
       "      <td>0.012272</td>\n",
       "    </tr>\n",
       "    <tr>\n",
       "      <td>3</td>\n",
       "      <td>0.143389</td>\n",
       "      <td>0.097652</td>\n",
       "      <td>-0.054649</td>\n",
       "      <td>0.036588</td>\n",
       "      <td>-0.121647</td>\n",
       "      <td>0.318875</td>\n",
       "      <td>0.477014</td>\n",
       "      <td>0.016959</td>\n",
       "      <td>-0.001794</td>\n",
       "      <td>0.017137</td>\n",
       "      <td>-0.134543</td>\n",
       "      <td>0.003790</td>\n",
       "      <td>0.001979</td>\n",
       "      <td>0.001979</td>\n",
       "      <td>-0.776433</td>\n",
       "    </tr>\n",
       "    <tr>\n",
       "      <td>4</td>\n",
       "      <td>-0.007138</td>\n",
       "      <td>0.072869</td>\n",
       "      <td>0.016143</td>\n",
       "      <td>-0.039055</td>\n",
       "      <td>-0.017085</td>\n",
       "      <td>0.420142</td>\n",
       "      <td>0.028532</td>\n",
       "      <td>0.001655</td>\n",
       "      <td>-0.010038</td>\n",
       "      <td>0.876931</td>\n",
       "      <td>0.017239</td>\n",
       "      <td>-0.000643</td>\n",
       "      <td>0.000474</td>\n",
       "      <td>0.000474</td>\n",
       "      <td>0.214051</td>\n",
       "    </tr>\n",
       "  </tbody>\n",
       "</table>\n",
       "</div>"
      ],
      "text/plain": [
       "   chan_width         n     SLOPE  StreamOrde  DistDwnstrm  FCODEnorm  \\\n",
       "0    0.005546  0.285024  0.438508    0.008910     0.015969  -0.059224   \n",
       "1    0.392944 -0.025441 -0.040980    0.460018     0.560255   0.060876   \n",
       "2   -0.013417 -0.017163  0.006006   -0.014794    -0.020152  -0.007029   \n",
       "3    0.143389  0.097652 -0.054649    0.036588    -0.121647   0.318875   \n",
       "4   -0.007138  0.072869  0.016143   -0.039055    -0.017085   0.420142   \n",
       "\n",
       "   chan_depth  chan_velocity  unitPower         r    DASqKm        Fb  \\\n",
       "0    0.046672      -0.000323   0.464726 -0.001368  0.016526 -0.002606   \n",
       "1    0.113435       0.038597   0.002835 -0.007816  0.547234  0.010708   \n",
       "2   -0.007214       0.705734   0.005729  0.000388 -0.019139  0.707207   \n",
       "3    0.477014       0.016959  -0.001794  0.017137 -0.134543  0.003790   \n",
       "4    0.028532       0.001655  -0.010038  0.876931  0.017239 -0.000643   \n",
       "\n",
       "   shearStress  minEntrain     TOTMA  \n",
       "0     0.502057    0.502057  0.006848  \n",
       "1    -0.002061   -0.002061  0.006723  \n",
       "2     0.002338    0.002338  0.012272  \n",
       "3     0.001979    0.001979 -0.776433  \n",
       "4     0.000474    0.000474  0.214051  "
      ]
     },
     "execution_count": 12,
     "metadata": {},
     "output_type": "execute_result"
    },
    {
     "data": {
      "image/png": "[encoded data removed]",
      "text/plain": [
       "<Figure size 432x288 with 1 Axes>"
      ]
     },
     "metadata": {
      "needs_background": "light"
     },
     "output_type": "display_data"
    }
   ],
   "source": [
    "#Plot PCA results\n",
    "pca = PCA().fit(x)\n",
    "plt.plot(np.cumsum(pca.explained_variance_ratio_))\n",
    "plt.xlabel('Number of Principal Components')\n",
    "plt.ylabel('Cumulative Explained Variance (%)')\n",
    "plt.title('Explained Variance vs. # Principal Components')\n",
    "\n",
    "principalDf\n",
    "#pca.explained_variance_ratio_"
   ]
  },
  {
   "cell_type": "markdown",
   "metadata": {
    "slideshow": {
     "slide_type": "slide"
    }
   },
   "source": [
    "<p>\n",
    "    5 PCs were ultimately selected for analysis as they explain ~75% of variance in the dataset.\n",
    "</p>\n",
    "<p>\n",
    "   The top weighted metrics for PC1 are unit power, slope, shear stress, and minimum entrained grain size.  For PC2 they are stream order, distance downstream, and drainage area.  For PC3 it is velocity and froude number,  for PC4 it is residence time, depth, and waterbody type, and PC5 is channel shape.\n",
    "    <br><br>\n",
    "    <b>The main axes of geomorphic variation across these rivers have thus been termed 'Sediment Transport', 'Longitunidal Location', 'Flow State', 'waterbody type', and 'Channel Shape'.</b>\n",
    "</p>\n",
    "<br>\n",
    "<p>\n",
    "    I then use a 'geomorphic index' which is just a sum of the top 5 PC values for each measurement.  This is purposefully not weighted by the relative importance of each PC (i.e. they're all weighted equally).  Classes are then determined by breaking the measurements along the deciles for the distribution\n",
    "</p>\n",
    "<br>\n",
    "<b>\n",
    "    This largely amounts to a classification of 'river magnitude'\n",
    "</b>"
   ]
  },
  {
   "cell_type": "code",
   "execution_count": 13,
   "metadata": {
    "slideshow": {
     "slide_type": "skip"
    }
   },
   "outputs": [
    {
     "data": {
      "text/html": [
       "<div>\n",
       "<style scoped>\n",
       "    .dataframe tbody tr th:only-of-type {\n",
       "        vertical-align: middle;\n",
       "    }\n",
       "\n",
       "    .dataframe tbody tr th {\n",
       "        vertical-align: top;\n",
       "    }\n",
       "\n",
       "    .dataframe thead th {\n",
       "        text-align: right;\n",
       "    }\n",
       "</style>\n",
       "<table border=\"1\" class=\"dataframe\">\n",
       "  <thead>\n",
       "    <tr style=\"text-align: right;\">\n",
       "      <th></th>\n",
       "      <th>count</th>\n",
       "      <th>mean</th>\n",
       "      <th>std</th>\n",
       "      <th>min</th>\n",
       "      <th>25%</th>\n",
       "      <th>50%</th>\n",
       "      <th>75%</th>\n",
       "      <th>max</th>\n",
       "    </tr>\n",
       "    <tr>\n",
       "      <th>clusterGeomorphIndex</th>\n",
       "      <th></th>\n",
       "      <th></th>\n",
       "      <th></th>\n",
       "      <th></th>\n",
       "      <th></th>\n",
       "      <th></th>\n",
       "      <th></th>\n",
       "      <th></th>\n",
       "    </tr>\n",
       "  </thead>\n",
       "  <tbody>\n",
       "    <tr>\n",
       "      <td>1</td>\n",
       "      <td>37211.0</td>\n",
       "      <td>0.289134</td>\n",
       "      <td>0.126646</td>\n",
       "      <td>0.019046</td>\n",
       "      <td>0.190942</td>\n",
       "      <td>0.278977</td>\n",
       "      <td>0.386171</td>\n",
       "      <td>0.718356</td>\n",
       "    </tr>\n",
       "    <tr>\n",
       "      <td>10</td>\n",
       "      <td>37211.0</td>\n",
       "      <td>0.169417</td>\n",
       "      <td>0.109385</td>\n",
       "      <td>0.000182</td>\n",
       "      <td>0.086340</td>\n",
       "      <td>0.153221</td>\n",
       "      <td>0.226301</td>\n",
       "      <td>0.659229</td>\n",
       "    </tr>\n",
       "    <tr>\n",
       "      <td>2</td>\n",
       "      <td>37211.0</td>\n",
       "      <td>0.263978</td>\n",
       "      <td>0.129058</td>\n",
       "      <td>0.016895</td>\n",
       "      <td>0.161368</td>\n",
       "      <td>0.262783</td>\n",
       "      <td>0.353125</td>\n",
       "      <td>0.718356</td>\n",
       "    </tr>\n",
       "    <tr>\n",
       "      <td>3</td>\n",
       "      <td>37211.0</td>\n",
       "      <td>0.237417</td>\n",
       "      <td>0.110441</td>\n",
       "      <td>0.016895</td>\n",
       "      <td>0.153263</td>\n",
       "      <td>0.225349</td>\n",
       "      <td>0.306704</td>\n",
       "      <td>0.773758</td>\n",
       "    </tr>\n",
       "    <tr>\n",
       "      <td>4</td>\n",
       "      <td>37211.0</td>\n",
       "      <td>0.242324</td>\n",
       "      <td>0.121589</td>\n",
       "      <td>0.009206</td>\n",
       "      <td>0.143400</td>\n",
       "      <td>0.239303</td>\n",
       "      <td>0.322859</td>\n",
       "      <td>0.773758</td>\n",
       "    </tr>\n",
       "    <tr>\n",
       "      <td>5</td>\n",
       "      <td>37210.0</td>\n",
       "      <td>0.230541</td>\n",
       "      <td>0.118406</td>\n",
       "      <td>0.009206</td>\n",
       "      <td>0.135698</td>\n",
       "      <td>0.212722</td>\n",
       "      <td>0.331518</td>\n",
       "      <td>0.773758</td>\n",
       "    </tr>\n",
       "    <tr>\n",
       "      <td>6</td>\n",
       "      <td>37211.0</td>\n",
       "      <td>0.218457</td>\n",
       "      <td>0.117935</td>\n",
       "      <td>0.009206</td>\n",
       "      <td>0.123534</td>\n",
       "      <td>0.190473</td>\n",
       "      <td>0.310234</td>\n",
       "      <td>0.773758</td>\n",
       "    </tr>\n",
       "    <tr>\n",
       "      <td>7</td>\n",
       "      <td>37211.0</td>\n",
       "      <td>0.210084</td>\n",
       "      <td>0.129839</td>\n",
       "      <td>0.009634</td>\n",
       "      <td>0.097277</td>\n",
       "      <td>0.190039</td>\n",
       "      <td>0.310234</td>\n",
       "      <td>0.773758</td>\n",
       "    </tr>\n",
       "    <tr>\n",
       "      <td>8</td>\n",
       "      <td>37211.0</td>\n",
       "      <td>0.189053</td>\n",
       "      <td>0.130970</td>\n",
       "      <td>0.008909</td>\n",
       "      <td>0.082257</td>\n",
       "      <td>0.157158</td>\n",
       "      <td>0.272409</td>\n",
       "      <td>0.659229</td>\n",
       "    </tr>\n",
       "    <tr>\n",
       "      <td>9</td>\n",
       "      <td>37211.0</td>\n",
       "      <td>0.178133</td>\n",
       "      <td>0.126062</td>\n",
       "      <td>0.005704</td>\n",
       "      <td>0.082257</td>\n",
       "      <td>0.149738</td>\n",
       "      <td>0.255734</td>\n",
       "      <td>0.659229</td>\n",
       "    </tr>\n",
       "  </tbody>\n",
       "</table>\n",
       "</div>"
      ],
      "text/plain": [
       "                        count      mean       std       min       25%  \\\n",
       "clusterGeomorphIndex                                                    \n",
       "1                     37211.0  0.289134  0.126646  0.019046  0.190942   \n",
       "10                    37211.0  0.169417  0.109385  0.000182  0.086340   \n",
       "2                     37211.0  0.263978  0.129058  0.016895  0.161368   \n",
       "3                     37211.0  0.237417  0.110441  0.016895  0.153263   \n",
       "4                     37211.0  0.242324  0.121589  0.009206  0.143400   \n",
       "5                     37210.0  0.230541  0.118406  0.009206  0.135698   \n",
       "6                     37211.0  0.218457  0.117935  0.009206  0.123534   \n",
       "7                     37211.0  0.210084  0.129839  0.009634  0.097277   \n",
       "8                     37211.0  0.189053  0.130970  0.008909  0.082257   \n",
       "9                     37211.0  0.178133  0.126062  0.005704  0.082257   \n",
       "\n",
       "                           50%       75%       max  \n",
       "clusterGeomorphIndex                                \n",
       "1                     0.278977  0.386171  0.718356  \n",
       "10                    0.153221  0.226301  0.659229  \n",
       "2                     0.262783  0.353125  0.718356  \n",
       "3                     0.225349  0.306704  0.773758  \n",
       "4                     0.239303  0.322859  0.773758  \n",
       "5                     0.212722  0.331518  0.773758  \n",
       "6                     0.190473  0.310234  0.773758  \n",
       "7                     0.190039  0.310234  0.773758  \n",
       "8                     0.157158  0.272409  0.659229  \n",
       "9                     0.149738  0.255734  0.659229  "
      ]
     },
     "execution_count": 13,
     "metadata": {},
     "output_type": "execute_result"
    }
   ],
   "source": [
    "#get quantiles for PCs and 'top-weighted' variables to assist in supervised classification\n",
    "tertiles = [0.33, 0.66]\n",
    "quantiles= [0.20, 0.40, 0.60, 0.80]\n",
    "octiles = [0.125, 0.24, 0.365, 0.490, 0.615, 0.740, 0.865]\n",
    "deciles = [0.1, 0.2, 0.3, 0.4, 0.5, 0.6, 0.7, 0.8, 0.9]\n",
    "\n",
    "#add PC values to hydroshortened\n",
    "Hydroshortened['PC1'] = principalComponents[:,0]\n",
    "Hydroshortened['PC2'] = principalComponents[:,1]\n",
    "Hydroshortened['PC3'] = principalComponents[:,2]\n",
    "Hydroshortened['PC4'] = principalComponents[:,3]\n",
    "Hydroshortened['PC5'] = principalComponents[:,4]\n",
    "\n",
    "Hydroshortened['geomorphIndex'] = (Hydroshortened['PC1'])+(Hydroshortened['PC2'])+(Hydroshortened['PC3'])+(Hydroshortened['PC4'])+(Hydroshortened['PC5'])\n",
    "geomorphIndex = np.quantile(Hydroshortened['geomorphIndex'], deciles)\n",
    "\n",
    "Hydroshortened['clusterGeomorphIndex'] = np.where(Hydroshortened['geomorphIndex']<geomorphIndex[0], '1', \n",
    "                                               np.where(Hydroshortened['geomorphIndex']<geomorphIndex[1], '2', \n",
    "                                                       np.where(Hydroshortened['geomorphIndex']<geomorphIndex[2], '3', \n",
    "                                                               np.where(Hydroshortened['geomorphIndex']<geomorphIndex[3], '4',\n",
    "                                                                        np.where(Hydroshortened['geomorphIndex']<geomorphIndex[4], '5', \n",
    "                                                                                 np.where(Hydroshortened['geomorphIndex']<geomorphIndex[5], '6', \n",
    "                                                                                          np.where(Hydroshortened['geomorphIndex']<geomorphIndex[6], '7',\n",
    "                                                                                                   np.where(Hydroshortened['geomorphIndex']<geomorphIndex[7], '8',\n",
    "                                                                                                           np.where(Hydroshortened['geomorphIndex']<geomorphIndex[8], '9', '10')))))))))\n",
    "        \n",
    "#binning fluvial indexes by k-means\n",
    "#binningFluvialType = KMeans(n_clusters=8, random_state=0).fit(Hydroshortened[['geomorphIndex']])\n",
    "#Hydroshortened['kmeansGemorphIndex'] = binningFluvialType.labels_\n",
    "\n",
    "Hydroshortened.groupby('clusterGeomorphIndex')['b'].describe()"
   ]
  },
  {
   "cell_type": "markdown",
   "metadata": {
    "slideshow": {
     "slide_type": "slide"
    }
   },
   "source": [
    "<h4> <font color=darkolivegreen> Priors Subsetted by Fluvial Index</font></h4>"
   ]
  },
  {
   "cell_type": "code",
   "execution_count": 14,
   "metadata": {
    "slideshow": {
     "slide_type": "slide"
    }
   },
   "outputs": [
    {
     "data": {
      "text/plain": [
       "[(1, 6)]"
      ]
     },
     "execution_count": 14,
     "metadata": {},
     "output_type": "execute_result"
    },
    {
     "data": {
      "image/png": "[encoded data removed]",
      "text/plain": [
       "<Figure size 864x288 with 7 Axes>"
      ]
     },
     "metadata": {
      "needs_background": "light"
     },
     "output_type": "display_data"
    }
   ],
   "source": [
    "forPriors = Hydroshortened.drop_duplicates('site_no')\n",
    "\n",
    "fig, axs = plt.subplots(ncols=7, figsize=(12, 4))\n",
    "sns.boxplot(x=\"clusterGeomorphIndex\", y='logA0', data=forPriors, palette='deep', ax=axs[0])#, order=['1', '2', '3', '4', '5', '6', '7', '8'])\n",
    "sns.boxplot(x=\"clusterGeomorphIndex\", y='logn', data=Hydroshortened, palette='deep', ax=axs[1])#, order=['1', '2', '3', '4', '5', '6', '7', '8'])\n",
    "sns.boxplot(x=\"clusterGeomorphIndex\", y='b', data=forPriors, palette='deep', ax=axs[2])#, order=['1', '2', '3', '4', '5', '6', '7', '8'])\n",
    "sns.boxplot(x=\"clusterGeomorphIndex\", y='logWb', data=forPriors, palette='deep', ax=axs[3])#, order=['1', '2', '3', '4', '5', '6', '7', '8'])\n",
    "sns.boxplot(x=\"clusterGeomorphIndex\", y='logDb', data=forPriors, palette='deep', ax=axs[4])#, order=['1', '2', '3', '4', '5', '6', '7', '8'])\n",
    "sns.boxplot(x=\"clusterGeomorphIndex\", y='logr', data=forPriors, palette='deep', ax=axs[5])#, order=['1', '2', '3', '4', '5', '6', '7', '8'])\n",
    "sns.boxplot(x=\"clusterGeomorphIndex\", y='logchan_width', data=forPriors, palette='deep', ax=axs[6])#, order=['1', '2', '3', '4', '5', '6', '7', '8'])\n",
    "\n",
    "fig.suptitle(\"Prior Distributions (and Width) Subsetted by Fluvial Index\")\n",
    "fig.autofmt_xdate(rotation=90)\n",
    "fig.tight_layout(rect=[0, 0.03, 1, 0.95])\n",
    "axs[5].set(ylim=(0, 2))\n",
    "axs[1].set(ylim=(-5, -2))\n",
    "axs[4].set(ylim=(-2, 2))\n",
    "axs[3].set(ylim=(1, 6))"
   ]
  },
  {
   "cell_type": "code",
   "execution_count": 15,
   "metadata": {},
   "outputs": [
    {
     "data": {
      "text/html": [
       "<div>\n",
       "<style scoped>\n",
       "    .dataframe tbody tr th:only-of-type {\n",
       "        vertical-align: middle;\n",
       "    }\n",
       "\n",
       "    .dataframe tbody tr th {\n",
       "        vertical-align: top;\n",
       "    }\n",
       "\n",
       "    .dataframe thead th {\n",
       "        text-align: right;\n",
       "    }\n",
       "</style>\n",
       "<table border=\"1\" class=\"dataframe\">\n",
       "  <thead>\n",
       "    <tr style=\"text-align: right;\">\n",
       "      <th></th>\n",
       "      <th>count</th>\n",
       "      <th>mean</th>\n",
       "      <th>std</th>\n",
       "      <th>min</th>\n",
       "      <th>25%</th>\n",
       "      <th>50%</th>\n",
       "      <th>75%</th>\n",
       "      <th>max</th>\n",
       "    </tr>\n",
       "    <tr>\n",
       "      <th>clusterGeomorphIndex</th>\n",
       "      <th></th>\n",
       "      <th></th>\n",
       "      <th></th>\n",
       "      <th></th>\n",
       "      <th></th>\n",
       "      <th></th>\n",
       "      <th></th>\n",
       "      <th></th>\n",
       "    </tr>\n",
       "  </thead>\n",
       "  <tbody>\n",
       "    <tr>\n",
       "      <td>1</td>\n",
       "      <td>37211.0</td>\n",
       "      <td>2.529171</td>\n",
       "      <td>0.870952</td>\n",
       "      <td>-2.796881</td>\n",
       "      <td>2.031432</td>\n",
       "      <td>2.596746</td>\n",
       "      <td>3.061052</td>\n",
       "      <td>6.112354</td>\n",
       "    </tr>\n",
       "    <tr>\n",
       "      <td>10</td>\n",
       "      <td>37211.0</td>\n",
       "      <td>5.179198</td>\n",
       "      <td>1.091823</td>\n",
       "      <td>-3.394718</td>\n",
       "      <td>4.478983</td>\n",
       "      <td>5.339051</td>\n",
       "      <td>5.927326</td>\n",
       "      <td>10.632967</td>\n",
       "    </tr>\n",
       "    <tr>\n",
       "      <td>2</td>\n",
       "      <td>37211.0</td>\n",
       "      <td>2.856783</td>\n",
       "      <td>0.783020</td>\n",
       "      <td>-2.391416</td>\n",
       "      <td>2.501436</td>\n",
       "      <td>3.009758</td>\n",
       "      <td>3.345156</td>\n",
       "      <td>6.174567</td>\n",
       "    </tr>\n",
       "    <tr>\n",
       "      <td>3</td>\n",
       "      <td>37211.0</td>\n",
       "      <td>3.244728</td>\n",
       "      <td>0.703638</td>\n",
       "      <td>-1.698269</td>\n",
       "      <td>2.930780</td>\n",
       "      <td>3.397524</td>\n",
       "      <td>3.680091</td>\n",
       "      <td>6.256805</td>\n",
       "    </tr>\n",
       "    <tr>\n",
       "      <td>4</td>\n",
       "      <td>37211.0</td>\n",
       "      <td>3.239724</td>\n",
       "      <td>0.742943</td>\n",
       "      <td>-1.410587</td>\n",
       "      <td>2.837908</td>\n",
       "      <td>3.366433</td>\n",
       "      <td>3.747030</td>\n",
       "      <td>6.351584</td>\n",
       "    </tr>\n",
       "    <tr>\n",
       "      <td>5</td>\n",
       "      <td>37210.0</td>\n",
       "      <td>3.547691</td>\n",
       "      <td>0.643043</td>\n",
       "      <td>-0.494296</td>\n",
       "      <td>3.207006</td>\n",
       "      <td>3.600048</td>\n",
       "      <td>3.983040</td>\n",
       "      <td>5.665856</td>\n",
       "    </tr>\n",
       "    <tr>\n",
       "      <td>6</td>\n",
       "      <td>37211.0</td>\n",
       "      <td>3.665039</td>\n",
       "      <td>0.840015</td>\n",
       "      <td>-1.292804</td>\n",
       "      <td>3.289893</td>\n",
       "      <td>3.829836</td>\n",
       "      <td>4.267878</td>\n",
       "      <td>6.423409</td>\n",
       "    </tr>\n",
       "    <tr>\n",
       "      <td>7</td>\n",
       "      <td>37211.0</td>\n",
       "      <td>3.866514</td>\n",
       "      <td>0.819917</td>\n",
       "      <td>-1.292804</td>\n",
       "      <td>3.417727</td>\n",
       "      <td>4.038303</td>\n",
       "      <td>4.447346</td>\n",
       "      <td>6.499637</td>\n",
       "    </tr>\n",
       "    <tr>\n",
       "      <td>8</td>\n",
       "      <td>37211.0</td>\n",
       "      <td>4.289710</td>\n",
       "      <td>0.642879</td>\n",
       "      <td>-1.880591</td>\n",
       "      <td>3.948355</td>\n",
       "      <td>4.369385</td>\n",
       "      <td>4.715190</td>\n",
       "      <td>6.664218</td>\n",
       "    </tr>\n",
       "    <tr>\n",
       "      <td>9</td>\n",
       "      <td>37211.0</td>\n",
       "      <td>4.692821</td>\n",
       "      <td>0.848737</td>\n",
       "      <td>-0.909812</td>\n",
       "      <td>4.357734</td>\n",
       "      <td>4.887903</td>\n",
       "      <td>5.204474</td>\n",
       "      <td>6.767631</td>\n",
       "    </tr>\n",
       "  </tbody>\n",
       "</table>\n",
       "</div>"
      ],
      "text/plain": [
       "                        count      mean       std       min       25%  \\\n",
       "clusterGeomorphIndex                                                    \n",
       "1                     37211.0  2.529171  0.870952 -2.796881  2.031432   \n",
       "10                    37211.0  5.179198  1.091823 -3.394718  4.478983   \n",
       "2                     37211.0  2.856783  0.783020 -2.391416  2.501436   \n",
       "3                     37211.0  3.244728  0.703638 -1.698269  2.930780   \n",
       "4                     37211.0  3.239724  0.742943 -1.410587  2.837908   \n",
       "5                     37210.0  3.547691  0.643043 -0.494296  3.207006   \n",
       "6                     37211.0  3.665039  0.840015 -1.292804  3.289893   \n",
       "7                     37211.0  3.866514  0.819917 -1.292804  3.417727   \n",
       "8                     37211.0  4.289710  0.642879 -1.880591  3.948355   \n",
       "9                     37211.0  4.692821  0.848737 -0.909812  4.357734   \n",
       "\n",
       "                           50%       75%        max  \n",
       "clusterGeomorphIndex                                 \n",
       "1                     2.596746  3.061052   6.112354  \n",
       "10                    5.339051  5.927326  10.632967  \n",
       "2                     3.009758  3.345156   6.174567  \n",
       "3                     3.397524  3.680091   6.256805  \n",
       "4                     3.366433  3.747030   6.351584  \n",
       "5                     3.600048  3.983040   5.665856  \n",
       "6                     3.829836  4.267878   6.423409  \n",
       "7                     4.038303  4.447346   6.499637  \n",
       "8                     4.369385  4.715190   6.664218  \n",
       "9                     4.887903  5.204474   6.767631  "
      ]
     },
     "execution_count": 15,
     "metadata": {},
     "output_type": "execute_result"
    }
   ],
   "source": [
    "#maps class to river based on 'closest' median cross-sectional average width of each class\n",
    "binnedMeanWdths = Hydroshortened.groupby('clusterGeomorphIndex')['logchan_width'].describe()\n",
    "binnedMeanWdths.to_csv('WidthsClass.csv')\n",
    "\n",
    "#save prior distribution parameters\n",
    "priorWbClass = Hydroshortened.groupby('clusterGeomorphIndex')['logWb'].describe()\n",
    "priorDbClass = Hydroshortened.groupby('clusterGeomorphIndex')['logDb'].describe()\n",
    "prior_rClass = Hydroshortened.groupby('clusterGeomorphIndex')['logr'].describe()\n",
    "priorA0Class = Hydroshortened.groupby('clusterGeomorphIndex')['logA0'].describe()\n",
    "priorNClass = Hydroshortened.groupby('clusterGeomorphIndex')['logn'].describe()\n",
    "priorBClass = Hydroshortened.groupby('clusterGeomorphIndex')['b'].describe()\n",
    "\n",
    "priorWbClass.to_csv('priorsWbClass.csv')\n",
    "priorDbClass.to_csv('priorsDbClass.csv')\n",
    "prior_rClass.to_csv('priorsRClass.csv')\n",
    "priorA0Class.to_csv('priorsA0Class.csv')\n",
    "priorNClass.to_csv('priorsNClass.csv')\n",
    "priorBClass.to_csv('priorsBClass.csv')\n",
    "\n",
    "binnedMeanWdths"
   ]
  },
  {
   "cell_type": "markdown",
   "metadata": {},
   "source": [
    "<h4><font color=darkolivegreen>Basic Machine Learning: K-Means </font> </h4>"
   ]
  },
  {
   "cell_type": "raw",
   "metadata": {},
   "source": [
    "#Silhouette Method\n",
    "n_clusters = [2, 3, 4, 5, 6, 7, 8, 9, 10]\n",
    "result = []\n",
    "for i in n_clusters:\n",
    "    kmeans_var_silhouette = Hydroshortened[['chan_width','SLOPE', 'StreamOrde','DistDwnstrm', 'chan_material_index', 'chan_depth', 'chan_velocity', 'unitPower', 'r', 'FCODEnorm', 'DASqKm', 'Fb', 'shearStress', 'minEntrain', 'TOTMA']]\n",
    "    kmeans_silhouette = KMeans(n_clusters= i, random_state=0).fit(kmeans_var_silhouette)\n",
    "    labels = kmeans_silhouette.labels_\n",
    "    score = metrics.silhouette_score(kmeans_var_silhouette, labels, metric='euclidean')\n",
    "    result.append(score)\n",
    "\n",
    "#plot results\n",
    "line = sns.lineplot(x = n_clusters, y=result)\n",
    "line.set_title(\"Silhouette  Analysis\")\n",
    "line.set(xlabel='# Groups', ylabel='Silhouette Score')\n",
    "line"
   ]
  },
  {
   "cell_type": "raw",
   "metadata": {},
   "source": [
    "kmeans_var = Hydroshortened[['chan_width','SLOPE', 'StreamOrde','DistDwnstrm', 'chan_depth', 'chan_velocity', 'unitPower', 'r', 'FCODEnorm', 'DASqKm', 'Fb', 'shearStress', 'minEntrain', 'TOTMA']]\n",
    "kmeans = KMeans(n_clusters=8, random_state=0).fit(kmeans_var)\n",
    "y_pred = kmeans.predict(kmeans_var) #predicted values"
   ]
  },
  {
   "cell_type": "raw",
   "metadata": {},
   "source": [
    "forPriors = Hydroshortened.drop_duplicates('site_no')\n",
    "\n",
    "fig, axs = plt.subplots(ncols=7, figsize=(12, 4))\n",
    "sns.boxplot(x=\"clusterGeomorphIndex\", y='logA0', data=forPriors, palette='deep', ax=axs[0])\n",
    "sns.boxplot(x=\"clusterGeomorphIndex\", y='logn', data=Hydroshortened, palette='deep', ax=axs[1])\n",
    "sns.boxplot(x=\"clusterGeomorphIndex\", y='b', data=forPriors, palette='deep', ax=axs[2])\n",
    "sns.boxplot(x=\"clusterGeomorphIndex\", y='logWb', data=forPriors, palette='deep', ax=axs[3])\n",
    "sns.boxplot(x=\"clusterGeomorphIndex\", y='logDb', data=forPriors, palette='deep', ax=axs[4])\n",
    "sns.boxplot(x=\"clusterGeomorphIndex\", y='logr', data=forPriors, palette='deep', ax=axs[5])\n",
    "sns.boxplot(x=\"clusterGeomorphIndex\", y='logchan_width', data=forPriors, palette='deep', ax=axs[6])\n",
    "\n",
    "fig.suptitle(\"Prior Distributions (and Width) Subsetted by Fluvial Index\")\n",
    "fig.autofmt_xdate(rotation=90)\n",
    "fig.tight_layout(rect=[0, 0.03, 1, 0.95])\n",
    "axs[5].set(ylim=(0, 2))\n",
    "axs[1].set(ylim=(-5, -2))\n",
    "axs[4].set(ylim=(-2, 2))\n",
    "axs[3].set(ylim=(1, 6))"
   ]
  },
  {
   "cell_type": "raw",
   "metadata": {},
   "source": [
    "#extract class distributions\n",
    "#maps class to river based on 'closest' median cross-sectional average width of each class\n",
    "binnedMeanWdths = Hydroshortened.groupby('kmeansIndex')['logchan_width'].describe()\n",
    "binnedMeanWdths.to_csv('WidthsClassKmeans.csv')\n",
    "\n",
    "#save prior distribution parameters\n",
    "priorWbClassKmeans = Hydroshortened.groupby('kmeansIndex')['logWb'].describe()\n",
    "priorDbClassKmeans = Hydroshortened.groupby('kmeansIndex')['logDb'].describe()\n",
    "prior_rClassKmeans = Hydroshortened.groupby('kmeansIndex')['logr'].describe()\n",
    "priorA0ClassKmeans = Hydroshortened.groupby('kmeansIndex')['logA0'].describe()\n",
    "priorNClassKmeans = Hydroshortened.groupby('kmeansIndex')['logn'].describe()\n",
    "priorBClassKmeans = Hydroshortened.groupby('kmeansIndex')['b'].describe()\n",
    "\n",
    "priorWbClassKmeans.to_csv('priorsWbClassKmeans.csv')\n",
    "priorDbClassKmeans.to_csv('priorsDbClassKmeans.csv')\n",
    "prior_rClassKmeans.to_csv('priorsRClassKmeans.csv')\n",
    "priorA0ClassKmeans.to_csv('priorsA0ClassKmeans.csv')\n",
    "priorNClassKmeans.to_csv('priorsNClassKmeans.csv')\n",
    "priorBClassKmeans.to_csv('priorsBClassKmeans.csv')"
   ]
  },
  {
   "cell_type": "markdown",
   "metadata": {},
   "source": [
    "<h4> <font color=darkolivegreen> Scratch Stuff </font></h4>"
   ]
  },
  {
   "cell_type": "raw",
   "metadata": {},
   "source": [
    "binnedMeanWdths['logr_hat'] = prior_rClass['50%']\n",
    "binnedMeanWdths['logr_sd'] = prior_rClass['std']\n",
    "binnedMeanWdths['lowerbound_logr'] = prior_rClass['min']\n",
    "binnedMeanWdths['upperbound_logr'] = prior_rClass['max']\n",
    "\n",
    "binnedMeanWdths['logn_hat'] = priorNClass['50%']\n",
    "binnedMeanWdths['logn_sd'] = priorNClass['std']\n",
    "binnedMeanWdths['lowerbound_logn'] = priorNClass['min']\n",
    "binnedMeanWdths['upperbound_logn'] = priorNClass['max']\n",
    "\n",
    "binnedMeanWdths['b_hat'] = priorBClass['50%']\n",
    "binnedMeanWdths['b_sd'] = priorBClass['std']\n",
    "binnedMeanWdths['lowerbound_b'] = priorBClass['min']\n",
    "binnedMeanWdths['upperbound_b'] = priorBClass['max']\n",
    "\n",
    "binnedMeanWdths['logDb_hat'] = priorDbClass['50%']\n",
    "binnedMeanWdths['logDb_sd'] = priorDbClass['std']\n",
    "binnedMeanWdths['lowerbound_logDb'] = priorDbClass['min']\n",
    "binnedMeanWdths['upperbound_logDb'] = priorDbClass['max']\n",
    "\n",
    "binnedMeanWdths['logWb_hat'] = priorWbClass['50%']\n",
    "binnedMeanWdths['logWb_sd'] = priorWbClass['std']\n",
    "binnedMeanWdths['lowerbound_logWb'] = priorWbClass['min']\n",
    "binnedMeanWdths['upperbound_logWb'] = priorWbClass['max']\n",
    "\n",
    "binnedMeanWdths['logA0_hat'] = priorA0Class['50%']\n",
    "binnedMeanWdths['logA0_sd'] = priorA0Class['std']\n",
    "binnedMeanWdths['lowerbound_logA0'] = priorA0Class['min']\n",
    "binnedMeanWdths['upperbound_logA0'] = priorA0Class['max']\n",
    "\n",
    "lmRClass_hat = sm.OLS(binnedMeanWdths['logr_hat'], sm.add_constant(binnedMeanWdths[['50%']])).fit()\n",
    "lmRClass_sd = sm.OLS(binnedMeanWdths['logr_sd'], sm.add_constant(binnedMeanWdths[['50%']])).fit()\n",
    "lmRClass_min = sm.OLS(binnedMeanWdths['lowerbound_logr'], sm.add_constant(binnedMeanWdths[['50%']])).fit()\n",
    "lmRClass_max = sm.OLS(binnedMeanWdths['upperbound_logr'], sm.add_constant(binnedMeanWdths[['50%']])).fit()\n",
    "\n",
    "lmBClass_hat = sm.OLS(binnedMeanWdths['b_hat'], sm.add_constant(binnedMeanWdths[['50%']])).fit()\n",
    "lmBClass_sd = sm.OLS(binnedMeanWdths['b_sd'], sm.add_constant(binnedMeanWdths[['50%']])).fit()\n",
    "lmBClass_min = sm.OLS(binnedMeanWdths['lowerbound_b'], sm.add_constant(binnedMeanWdths[['50%']])).fit()\n",
    "lmBClass_max = sm.OLS(binnedMeanWdths['upperbound_b'], sm.add_constant(binnedMeanWdths[['50%']])).fit()\n",
    "\n",
    "lmNClass_hat = sm.OLS(binnedMeanWdths['logn_hat'], sm.add_constant(binnedMeanWdths[['50%']])).fit()\n",
    "lmNClass_sd = sm.OLS(binnedMeanWdths['logn_sd'], sm.add_constant(binnedMeanWdths[['50%']])).fit()\n",
    "lmNClass_min = sm.OLS(binnedMeanWdths['lowerbound_logn'], sm.add_constant(binnedMeanWdths[['50%']])).fit()\n",
    "lmNClass_max = sm.OLS(binnedMeanWdths['upperbound_logn'], sm.add_constant(binnedMeanWdths[['50%']])).fit()\n",
    "\n",
    "lmA0Class_hat = sm.OLS(binnedMeanWdths['logA0_hat'], sm.add_constant(binnedMeanWdths[['50%']])).fit()\n",
    "lmA0Class_sd = sm.OLS(binnedMeanWdths['logA0_sd'], sm.add_constant(binnedMeanWdths[['50%']])).fit()\n",
    "lmA0Class_min = sm.OLS(binnedMeanWdths['lowerbound_logA0'], sm.add_constant(binnedMeanWdths[['50%']])).fit()\n",
    "lmA0Class_max = sm.OLS(binnedMeanWdths['upperbound_logA0'], sm.add_constant(binnedMeanWdths[['50%']])).fit()\n",
    "\n",
    "lmWbClass_hat = sm.OLS(binnedMeanWdths['logWb_hat'], sm.add_constant(binnedMeanWdths[['50%']])).fit()\n",
    "lmWbClass_sd = sm.OLS(binnedMeanWdths['logWb_sd'], sm.add_constant(binnedMeanWdths[['50%']])).fit()\n",
    "lmWbClass_min = sm.OLS(binnedMeanWdths['lowerbound_logWb'], sm.add_constant(binnedMeanWdths[['50%']])).fit()\n",
    "lmWbClass_max = sm.OLS(binnedMeanWdths['upperbound_logWb'], sm.add_constant(binnedMeanWdths[['50%']])).fit()\n",
    "\n",
    "lmDbClass_hat = sm.OLS(binnedMeanWdths['logDb_hat'], sm.add_constant(binnedMeanWdths[['50%']])).fit()\n",
    "lmDbClass_sd = sm.OLS(binnedMeanWdths['logDb_sd'], sm.add_constant(binnedMeanWdths[['50%']])).fit()\n",
    "lmDbClass_min = sm.OLS(binnedMeanWdths['lowerbound_logDb'], sm.add_constant(binnedMeanWdths[['50%']])).fit()\n",
    "lmDbClass_max = sm.OLS(binnedMeanWdths['upperbound_logDb'], sm.add_constant(binnedMeanWdths[['50%']])).fit()\n",
    "\n",
    "extrapolateClassModels = pd.DataFrame(index=['r_hat','n_hat', 'A0_hat', 'b_hat', 'Wb_hat', 'Db_hat', 'r_sd','n_sd', 'A0_sd', 'b_sd', 'Wb_sd', 'Db_sd', 'r_min', 'n_min', 'A0_min', 'b_min', 'Wb_min', 'Db_min', 'r_max', 'n_max', 'A0_max', 'b_max', 'Wb_max', 'Db_max'])\n",
    "extrapolateClassModels['int'] = (lmRClass_hat.params[0], lmNClass_hat.params[0], lmA0Class_hat.params[0], lmBClass_hat.params[0], lmWbClass_hat.params[0], lmDbClass_hat.params[0],\n",
    "                                 lmRClass_sd.params[0], lmNClass_sd.params[0], lmA0Class_sd.params[0], lmBClass_sd.params[0], lmWbClass_sd.params[0], lmDbClass_sd.params[0],\n",
    "                                lmRClass_min.params[0], lmNClass_min.params[0], lmA0Class_min.params[0], lmBClass_min.params[0], lmWbClass_min.params[0], lmDbClass_min.params[0],\n",
    "                                lmRClass_max.params[0], lmNClass_max.params[0], lmA0Class_max.params[0], lmBClass_max.params[0], lmWbClass_max.params[0], lmDbClass_max.params[0])\n",
    "extrapolateClassModels['slope'] = (lmRClass_hat.params[1], lmNClass_hat.params[1], lmA0Class_hat.params[1], lmBClass_hat.params[1], lmWbClass_hat.params[1], lmDbClass_hat.params[1],\n",
    "                                   lmRClass_sd.params[1], lmNClass_sd.params[1], lmA0Class_sd.params[1], lmBClass_sd.params[1], lmWbClass_sd.params[1], lmDbClass_sd.params[1],\n",
    "                                lmRClass_min.params[1], lmNClass_min.params[1], lmA0Class_min.params[1], lmBClass_min.params[1], lmWbClass_min.params[1], lmDbClass_min.params[1],\n",
    "                                lmRClass_max.params[1], lmNClass_max.params[1], lmA0Class_max.params[1], lmBClass_max.params[1], lmWbClass_max.params[1], lmDbClass_max.params[1])\n",
    "\n",
    "extrapolateClassModels.to_csv('extrapolateClassModels.csv')"
   ]
  }
 ],
 "metadata": {
  "kernelspec": {
   "display_name": "Python 3",
   "language": "python",
   "name": "python3"
  },
  "language_info": {
   "codemirror_mode": {
    "name": "ipython",
    "version": 3
   },
   "file_extension": ".py",
   "mimetype": "text/x-python",
   "name": "python",
   "nbconvert_exporter": "python",
   "pygments_lexer": "ipython3",
   "version": "3.6.9"
  }
 },
 "nbformat": 4,
 "nbformat_minor": 2
}
